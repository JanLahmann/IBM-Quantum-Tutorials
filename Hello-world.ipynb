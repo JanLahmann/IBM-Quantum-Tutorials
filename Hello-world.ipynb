{
 "cells": [
  {
   "cell_type": "markdown",
   "id": "3d05f505-7bf2-47ed-bd38-81c7250d82ab",
   "metadata": {},
   "source": [
    "# Setup of a web-based Qiskit environment and running quantum circuits on simulators and real quantum computers"
   ]
  },
  {
   "cell_type": "markdown",
   "id": "90e5e6b0-7c96-4e9b-8cd0-cd0489ebafa5",
   "metadata": {},
   "source": [
    "## Outline\n",
    "\n",
    "1. Graphical IBM Circuit Composer\n",
    "1. Setup Online Qiskit Environment\n",
    "1. Execute Qiskit Circuit on Simulators\n",
    "    * Visualise results (and create bell circuit)\n",
    "    * visualise the circuit\n",
    "    * connect to IBM Quantum Cloud services\n",
    "    * use mock devices (noisy simulator)\n",
    "1. Execute Qiskit Circuit on Real Quantum Computing Hardware"
   ]
  },
  {
   "cell_type": "markdown",
   "id": "67159c63-bb23-4761-9ac9-2caf019fd03b",
   "metadata": {},
   "source": [
    "## Resources\n",
    "1. IBM Circuit Composer: https://quantum.cloud.ibm.com/composer/\n",
    "1. IBM Quantum Guides: https://quantum.cloud.ibm.com/docs/en/guides"
   ]
  },
  {
   "cell_type": "markdown",
   "id": "e7b04d46-b62a-48f3-bd38-f6bb83fcb151",
   "metadata": {},
   "source": [
    "## Step 1 Graphical IBM Circuit Composer\n",
    "\n",
    "1. Create a free ID for https://quantum.cloud.ibm.com/\n",
    "   * register at https://quantum.cloud.ibm.com/registration for a 30-day account without credit card\n",
    "   * \"sign in\" at https://quantum.cloud.ibm.com/\n",
    "   * create a quantum instance (with free Open Plan) at https://quantum.cloud.ibm.com/instances\n",
    "     * in case of issues, check selected region (us-east) and try switching the account (menu is in upper right part of the screen\n",
    "1. Open https://quantum.cloud.ibm.com/composer/\n",
    "1. Explore the UI, including docs & tutorials (https://quantum.cloud.ibm.com/docs/en/guides/composer)\n",
    "1. Create a Bell State (2 Qubits; H Gate, CNOT, Measurements)\n",
    "1. Understand the results & visualisation\n",
    "1. Execute the circuit on real hardware\n",
    "   * use \"Setup and run\" in upper right corner of the UI (needs IBM Cloud account and \"Quantum Instance witth Open Plan\")\n",
    "1. Understand the results\n",
    "1. Generate Qiskit Code\n",
    "   * View -> Panels -> Code Editor"
   ]
  },
  {
   "cell_type": "markdown",
   "id": "bc0f0959-1bb8-428a-87b9-e3a0df615d76",
   "metadata": {},
   "source": [
    "## Step 2 Setup Online Qiskit Environment\n",
    "\n",
    "Create online lab environment: \n",
    "https://quantum.cloud.ibm.com/docs/en/guides/online-lab-environments\n",
    "\n",
    "1. qBraid (https://quantum.cloud.ibm.com/docs/en/guides/online-lab-environments#qbraid-lab)\n",
    "   * Create an account http://account.qbraid.com\n",
    "   * Launch Lab\n",
    "   * Add Qiskit 1.2.0 environment (and choose this kernel in each notebook)\n",
    "   * Create Launcher, Create Notebook “Python 3 / Qiskit 1.2.0”\n",
    "   * List the qiskit modules with “%pip list | grep qiskit“\n",
    "   * optionally upload notebook with \"git clone\"; https://github.com/JanLahmann/IBM-Quantum-Tutorials\n",
    "1. Preconfigured Qiskit environment in mybinder.org: https://mybinder.org/v2/gh/JanLahmann/IBM-Quantum-Tutorials/HEAD?urlpath=%2Fdoc%2Ftree%2FHello-world.ipynb"
   ]
  },
  {
   "cell_type": "markdown",
   "id": "19cc6fec-6515-4ded-b695-69d1a1fdf820",
   "metadata": {},
   "source": [
    "## Step 3 Execute Qiskit Circuit on Simulators\n",
    "\n",
    "1. visualise Results (for Bell circuit): https://quantum.cloud.ibm.com/docs/en/guides/visualize-results#plot-histogram-\n",
    "    * do not execute “options when plotting a histogram”\n",
    "    * adjust for using the Aer simulator instead of Qiskit Runtime (to avoid queuing times), see https://quantum.cloud.ibm.com/docs/en/guides/local-testing-mode#aersimulator-examples\n",
    "1. visualise the Circuit https://quantum.cloud.ibm.com/docs/en/guides/visualize-circuits#alternative-renderers\n",
    "1. modify for using the newer \"SamplerV2\" instead of the deprecated \"Sampler\"\n",
    "1. Setup an IBM Quantum Channel (IQP), using the \"New\" IQP in IBM Public Cloud http://quantum.cloud.ibm.com:\n",
    "    * https://eu-de.quantum.cloud.ibm.com/docs/en/guides/cloud-setup\n",
    "    * choose region us-east (for Open Plan)\n",
    "    * Create instance (if not done before)\n",
    "    * Find your API key (\"create API key\" at https://quantum.cloud.ibm.com, or at https://cloud.ibm.com/iam/apikeys)\n",
    "    * Find your Cloud Resource Name (CRN; at https://quantum.cloud.ibm.com/instances)\n",
    "    * remember for your next notebooks to load your saved credentials with \"service = QiskitRuntimeService()\"\n",
    "1. use fake backends (noisy simulator) https://quantum.cloud.ibm.com/docs/en/guides/local-testing-mode#fake-backends-example\n",
    "    * Note: when using SamplerV2, need to change the plot_histogram to:\n",
    "    * plot_histogram(result[0].data.meas.get_counts())"
   ]
  },
  {
   "cell_type": "code",
   "execution_count": 25,
   "id": "e2abc32a-c34f-4800-b96c-d3516b0502a7",
   "metadata": {
    "trusted": true
   },
   "outputs": [],
   "source": [
    "# visualise Results (for Bell circuit)\n",
    "\n",
    "from qiskit_aer.primitives import SamplerV2 as Sampler\n",
    " \n",
    "from qiskit import QuantumCircuit\n",
    "from qiskit.visualization import plot_histogram\n",
    " \n",
    "sampler = Sampler()"
   ]
  },
  {
   "cell_type": "code",
   "execution_count": 26,
   "id": "8995e97f-ff42-463a-ba85-fb499a917026",
   "metadata": {
    "trusted": true
   },
   "outputs": [
    {
     "name": "stdout",
     "output_type": "stream",
     "text": [
      "{'11': 510, '00': 514}\n"
     ]
    }
   ],
   "source": [
    "# quantum circuit to make a Bell state\n",
    "bell = QuantumCircuit(2)\n",
    "bell.h(0)\n",
    "bell.cx(0, 1)\n",
    "bell.measure_all()\n",
    " \n",
    "# execute the quantum circuit\n",
    "counts = sampler.run([bell]).result()[0].data.meas.get_counts()\n",
    "print(counts)"
   ]
  },
  {
   "cell_type": "code",
   "execution_count": 27,
   "id": "314759b2-f121-4c8d-a9f7-0467fd616bab",
   "metadata": {
    "trusted": true
   },
   "outputs": [
    {
     "data": {
      "image/png": "[encoded data removed]",
      "text/plain": [
       "<Figure size 640x480 with 1 Axes>"
      ]
     },
     "execution_count": 27,
     "metadata": {},
     "output_type": "execute_result"
    }
   ],
   "source": [
    "plot_histogram(counts)"
   ]
  },
  {
   "cell_type": "code",
   "execution_count": 28,
   "id": "12e215d1-751b-4522-abf0-c165647b7420",
   "metadata": {
    "trusted": true
   },
   "outputs": [
    {
     "data": {
      "image/png": "[encoded data removed]",
      "text/plain": [
       "<Figure size 580.387x284.278 with 1 Axes>"
      ]
     },
     "execution_count": 28,
     "metadata": {},
     "output_type": "execute_result"
    }
   ],
   "source": [
    "# visualise the circuit\n",
    "\n",
    "bell.draw(output=\"mpl\")"
   ]
  },
  {
   "cell_type": "code",
   "execution_count": 10,
   "id": "c5abaf3f",
   "metadata": {
    "trusted": true
   },
   "outputs": [],
   "source": [
    "# get token from https://quantum.cloud.ibm.com (\"Open Plan\" is free to use)\n",
    "token = \"<YOUR_IBM_QUANTUM_APIkey>\"\n",
    "instance = \"<YOUR_IBM_QUANTUM_CRN>\""
   ]
  },
  {
   "cell_type": "code",
   "execution_count": 30,
   "id": "818c04f3",
   "metadata": {
    "trusted": true
   },
   "outputs": [],
   "source": [
    "# Setup an IBM Quantum Channel on \"new\" IQP\n",
    "# get token from https://quantum.cloud.ibm.com (\"Open Plan\" is free to use)\n",
    "\n",
    "from qiskit_ibm_runtime import QiskitRuntimeService\n",
    "QiskitRuntimeService.save_account(\n",
    "    token=token, \n",
    "    instance=instance,\n",
    "    overwrite=True,\n",
    "    channel=\"ibm_cloud\" # `channel` distinguishes between different account types\n",
    ")"
   ]
  },
  {
   "cell_type": "code",
   "execution_count": 31,
   "id": "134167f6-e093-45aa-80bc-930b5a1d6886",
   "metadata": {
    "trusted": true
   },
   "outputs": [],
   "source": [
    "# Load saved credentials\n",
    "\n",
    "from qiskit_ibm_runtime import QiskitRuntimeService\n",
    "service = QiskitRuntimeService()"
   ]
  },
  {
   "cell_type": "code",
   "execution_count": null,
   "id": "5e6b3ffd-c64d-4c90-8e32-c6126186a17e",
   "metadata": {
    "trusted": true
   },
   "outputs": [],
   "source": [
    "# use fake backends (noisy simulator)\n",
    "\n",
    "from qiskit.circuit import QuantumCircuit\n",
    "from qiskit.transpiler import generate_preset_pass_manager\n",
    "from qiskit_ibm_runtime import SamplerV2 as Sampler\n",
    "from qiskit_ibm_runtime.fake_provider import FakeManilaV2\n",
    " \n",
    "# Bell Circuit\n",
    "qc = QuantumCircuit(2)\n",
    "qc.h(0)\n",
    "qc.cx(0, 1)\n",
    "qc.measure_all()\n",
    " \n",
    "# Run the sampler job locally using FakeManilaV2\n",
    "fake_manila = FakeManilaV2()\n",
    "pm = generate_preset_pass_manager(backend=fake_manila, optimization_level=1)\n",
    "isa_qc = pm.run(qc)\n",
    " \n",
    "# You can use a fixed seed to get fixed results.\n",
    "sampler = Sampler(mode=fake_manila)\n",
    " \n",
    "result = sampler.run([isa_qc]).result()"
   ]
  },
  {
   "cell_type": "code",
   "execution_count": 33,
   "id": "95404e86-2201-46e4-85a4-5dd2ea124570",
   "metadata": {
    "trusted": true
   },
   "outputs": [
    {
     "data": {
      "image/png": "[encoded data removed]",
      "text/plain": [
       "<Figure size 640x480 with 1 Axes>"
      ]
     },
     "execution_count": 33,
     "metadata": {},
     "output_type": "execute_result"
    }
   ],
   "source": [
    "plot_histogram(result[0].data.meas.get_counts())"
   ]
  },
  {
   "cell_type": "code",
   "execution_count": 34,
   "id": "159723c7-3ee8-43e8-ae05-e64c6311f907",
   "metadata": {
    "trusted": true
   },
   "outputs": [
    {
     "name": "stdout",
     "output_type": "stream",
     "text": [
      "{'11': 457, '00': 503, '01': 27, '10': 37}\n"
     ]
    }
   ],
   "source": [
    "# option: print counts\n",
    "print(result[0].data.meas.get_counts())"
   ]
  },
  {
   "cell_type": "markdown",
   "id": "ab7d70af-4d17-4d68-8ddd-6824749328eb",
   "metadata": {},
   "source": [
    "# Step 4 Execute Qiskit Circuit on Real Quantum Computing Hardware\n",
    "1. See code in step 5 of https://quantum.cloud.ibm.com/docs/en/guides/cloud-setup#set-up-to-use-ibm-cloud and adjust slightly\n",
    "2. See https://quantum.cloud.ibm.com/docs/en/guides/monitor-job how to monitor and retrieve jobs\n",
    "    * see dashboard with your jobs: https://quantum.cloud.ibm.com\n",
    "4. to avoid waiting for execution on real backend, results from previous jobs in QiskitRuntimeService can be retrieved with\n",
    "   * job = service.job(PREVIOUS_JOB_ID)"
   ]
  },
  {
   "cell_type": "code",
   "execution_count": 35,
   "id": "8ab1830c-b606-4c83-871c-37bfb1213447",
   "metadata": {
    "trusted": true
   },
   "outputs": [
    {
     "name": "stdout",
     "output_type": "stream",
     "text": [
      "job id: d1pq2hv6d0hc73b8k2rg\n"
     ]
    },
    {
     "data": {
      "text/plain": [
       "'QUEUED'"
      ]
     },
     "execution_count": 35,
     "metadata": {},
     "output_type": "execute_result"
    }
   ],
   "source": [
    "# execute circuit on real hardware\n",
    "\n",
    "# select least busy backend\n",
    "backend = service.least_busy(operational=True, simulator=False)\n",
    "sampler = Sampler(backend)\n",
    "\n",
    "pm = generate_preset_pass_manager(backend=backend, optimization_level=1)\n",
    "isa_qc = pm.run(qc)\n",
    "\n",
    "job = sampler.run([isa_qc])\n",
    "print(f\"job id: {job.job_id()}\")\n",
    "\n",
    "job.status()"
   ]
  },
  {
   "cell_type": "code",
   "execution_count": 36,
   "id": "5d7bc0d5-0bd9-45fe-b74b-4a67bc33bb7a",
   "metadata": {
    "trusted": true
   },
   "outputs": [
    {
     "data": {
      "text/plain": [
       "'DONE'"
      ]
     },
     "execution_count": 36,
     "metadata": {},
     "output_type": "execute_result"
    }
   ],
   "source": [
    "job.status()"
   ]
  },
  {
   "cell_type": "code",
   "execution_count": null,
   "id": "a679d4c5-a2b9-4952-b518-131875f145d5",
   "metadata": {
    "trusted": false
   },
   "outputs": [],
   "source": [
    "# optional: retrieve previous job\n",
    "job = service.job(\"PREVIOUS_JOB_ID\")"
   ]
  },
  {
   "cell_type": "code",
   "execution_count": 37,
   "id": "b8397ed7-317a-439b-b2a5-1094047a82cd",
   "metadata": {
    "trusted": true
   },
   "outputs": [
    {
     "data": {
      "image/png": "[encoded data removed]",
      "text/plain": [
       "<Figure size 640x480 with 1 Axes>"
      ]
     },
     "execution_count": 37,
     "metadata": {},
     "output_type": "execute_result"
    }
   ],
   "source": [
    "result = job.result()\n",
    "plot_histogram(result[0].data.meas.get_counts())"
   ]
  },
  {
   "cell_type": "markdown",
   "id": "70ca36e6-23ba-499c-b858-04f36dd011ff",
   "metadata": {},
   "source": [
    "# Further Reading\n",
    "\n",
    "1. Tutorials and courses: https://quantum.cloud.ibm.com/learning/en\n",
    "2. Coding with Qikit 1.x (YouTube series):\n",
    "   * https://quantum.cloud.ibm.com/docs/en/tutorials/hello-world#hello-world\n",
    "   * https://www.youtube.com/watch?v=oaAjxcIFLtM&list=PLOFEBzvs-VvrgHZt3exM_NNiNKtZlHvZi&index=1\n",
    "   * https://github.com/derek-wang-ibm/coding-with-qiskit/tree/main\n",
    "1. https://quantum.cloud.ibm.com/learning/en/courses/quantum-computing-in-practice,\n",
    "   * https://www.youtube.com/watch?v=bChFW4Za3Ws&list=PLOFEBzvs-VvoZxe2ClFy27yOt6VzsTEJK\n",
    "1. Exact Simulation with Primitives: https://quantum.cloud.ibm.com/docs/en/guides/simulate-with-qiskit-sdk-primitives\n",
    "1. https://docs.quantum.ibm.com/guides/get-started-with-primitives#get-started-with-sampler\n",
    "1. API reference: https://quantum.cloud.ibm.com/docs/en/api/qiskit\n",
    "1. IBM Quantum Challenge 2024: https://github.com/qiskit-community/ibm-quantum-challenge-2024"
   ]
  },
  {
   "cell_type": "code",
   "execution_count": null,
   "id": "83a03205-7151-4224-bc07-6da6e620d026",
   "metadata": {
    "trusted": false
   },
   "outputs": [],
   "source": []
  }
 ],
 "metadata": {
  "kernelspec": {
   "display_name": "Python 3 (ipykernel)",
   "language": "python",
   "name": "python3"
  },
  "language_info": {
   "codemirror_mode": {
    "name": "ipython",
    "version": 3
   },
   "file_extension": ".py",
   "mimetype": "text/x-python",
   "name": "python",
   "nbconvert_exporter": "python",
   "pygments_lexer": "ipython3",
   "version": "3.11.9"
  }
 },
 "nbformat": 4,
 "nbformat_minor": 5
}
